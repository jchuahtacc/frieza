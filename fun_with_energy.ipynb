{
 "cells": [
  {
   "cell_type": "markdown",
   "metadata": {},
   "source": [
    "# Fun With Energy\n",
    "\n",
    "### Introduction\n",
    "\n",
    "In this notebook, we will perform simple CPU power consumption experiments on a remote Chameleon instance using `etrace2` and `stress`. We will graph the results using `matplotlib`. To perform the remote execution on the Chameleon instance, we will use the `fabric` Python package.\n",
    "\n",
    "Before running this notebook, please configure an SSH keypair and launch an instance of the [CentOS 7 Appliance](https://www.chameleoncloud.org/appliances/1/) on [CHI @ TACC](https://chi.tacc.chameleoncloud.org) with a public floating IP."
   ]
  },
  {
   "cell_type": "markdown",
   "metadata": {},
   "source": [
    "### Imports\n",
    "\n",
    "For those who are unfamiliar with Jupyter notebooks, `%matplotlib inline` is a Jupyter \"magic command\" that instructs Jupyter to render matplotlib plots embedded into the notebook."
   ]
  },
  {
   "cell_type": "code",
   "execution_count": 1,
   "metadata": {
    "collapsed": false
   },
   "outputs": [],
   "source": [
    "%matplotlib inline\n",
    "\n",
    "from fabric import api as fapi\n",
    "from fabric import network as fnet\n",
    "from fabric import state as fstate\n",
    "\n",
    "import matplotlib.pyplot as plt"
   ]
  },
  {
   "cell_type": "markdown",
   "metadata": {},
   "source": [
    "### `fabric` Configuration\n",
    "\n",
    "`fabric` uses environment variables for connection configuration. After launching your Chameleon bare metal instance, assign your instance's floating IP to the `host_string` environment variable and the path of your SSH private key to the `key_filename` environment variable. Running this cell should produce kernel information from your Chameleon instance (if properly configured.)"
   ]
  },
  {
   "cell_type": "code",
   "execution_count": 4,
   "metadata": {
    "collapsed": false
   },
   "outputs": [
    {
     "name": "stdout",
     "output_type": "stream",
     "text": [
      "[129.114.109.108] run: uname -a\n",
      "[129.114.109.108] out: Linux powertest-jchuah 3.10.0-514.2.2.el7.x86_64 #1 SMP Tue Dec 6 23:06:41 UTC 2016 x86_64 x86_64 x86_64 GNU/Linux\n",
      "[129.114.109.108] out: \n",
      "\n"
     ]
    },
    {
     "data": {
      "text/plain": [
       "'Linux powertest-jchuah 3.10.0-514.2.2.el7.x86_64 #1 SMP Tue Dec 6 23:06:41 UTC 2016 x86_64 x86_64 x86_64 GNU/Linux'"
      ]
     },
     "execution_count": 4,
     "metadata": {},
     "output_type": "execute_result"
    }
   ],
   "source": [
    "fapi.env.user = 'cc'\n",
    "fapi.env.host_string = '129.114.109.108'\n",
    "fapi.env.key_filename = '~/.ssh/chameleon'\n",
    "fapi.run('uname -a')"
   ]
  },
  {
   "cell_type": "markdown",
   "metadata": {},
   "source": [
    "### Intercoolr `etrace2`\n",
    "\n",
    "Intercoolr is a set of APIs that allow monitoring and controlling hardware power states on Intel Sandy Bridge (and later) processors. From this package, we will be using the `etrace2` program, which monitors power for user space programs. \n",
    "\n",
    "Intercoolr is available at:\n",
    "\n",
    "[https://github.com/coolr-hpc/intercoolr](https://github.com/coolr-hpc/intercoolr)\n",
    "\n",
    "CentOS7 comes with `etrace2` installed by default, but for our purposes we will download and compile Intercoolr."
   ]
  },
  {
   "cell_type": "code",
   "execution_count": 24,
   "metadata": {
    "collapsed": false
   },
   "outputs": [
    {
     "name": "stdout",
     "output_type": "stream",
     "text": [
      "[129.114.109.108] run: git clone https://github.com/coolr-hpc/intercoolr.git\n",
      "[129.114.109.108] out: Cloning into 'intercoolr'...\n",
      "[129.114.109.108] out: remote: Counting objects: 125, done.\u001b[K\n",
      "[129.114.109.108] out: Receiving objects:   0% (1/125)   \n",
      "[129.114.109.108] out: Receiving objects:   1% (2/125)   \n",
      "[129.114.109.108] out: Receiving objects:   2% (3/125)   \n",
      "[129.114.109.108] out: Receiving objects:   3% (4/125)   \n",
      "[129.114.109.108] out: Receiving objects:   4% (5/125)   \n",
      "[129.114.109.108] out: Receiving objects:   5% (7/125)   \n",
      "[129.114.109.108] out: Receiving objects:   6% (8/125)   \n",
      "[129.114.109.108] out: Receiving objects:   7% (9/125)   \n",
      "[129.114.109.108] out: Receiving objects:   8% (10/125)   \n",
      "[129.114.109.108] out: Receiving objects:   9% (12/125)   \n",
      "[129.114.109.108] out: Receiving objects:  10% (13/125)   \n",
      "[129.114.109.108] out: Receiving objects:  11% (14/125)   \n",
      "[129.114.109.108] out: Receiving objects:  12% (15/125)   \n",
      "[129.114.109.108] out: Receiving objects:  13% (17/125)   \n",
      "[129.114.109.108] out: Receiving objects:  14% (18/125)   \n",
      "[129.114.109.108] out: Receiving objects:  15% (19/125)   \n",
      "[129.114.109.108] out: Receiving objects:  16% (20/125)   \n",
      "[129.114.109.108] out: Receiving objects:  17% (22/125)   \n",
      "[129.114.109.108] out: Receiving objects:  18% (23/125)   \n",
      "[129.114.109.108] out: Receiving objects:  19% (24/125)   \n",
      "[129.114.109.108] out: Receiving objects:  20% (25/125)   \n",
      "[129.114.109.108] out: Receiving objects:  21% (27/125)   \n",
      "[129.114.109.108] out: Receiving objects:  22% (28/125)   \n",
      "[129.114.109.108] out: Receiving objects:  23% (29/125)   \n",
      "[129.114.109.108] out: Receiving objects:  24% (30/125)   \n",
      "[129.114.109.108] out: Receiving objects:  25% (32/125)   \n",
      "[129.114.109.108] out: remote: Total 125 (delta 0), reused 0 (delta 0), pack-reused 125\u001b[K\n",
      "[129.114.109.108] out: Receiving objects:  26% (33/125)   \n",
      "[129.114.109.108] out: Receiving objects:  27% (34/125)   \n",
      "[129.114.109.108] out: Receiving objects:  28% (35/125)   \n",
      "[129.114.109.108] out: Receiving objects:  29% (37/125)   \n",
      "[129.114.109.108] out: Receiving objects:  30% (38/125)   \n",
      "[129.114.109.108] out: Receiving objects:  31% (39/125)   \n",
      "[129.114.109.108] out: Receiving objects:  32% (40/125)   \n",
      "[129.114.109.108] out: Receiving objects:  33% (42/125)   \n",
      "[129.114.109.108] out: Receiving objects:  34% (43/125)   \n",
      "[129.114.109.108] out: Receiving objects:  35% (44/125)   \n",
      "[129.114.109.108] out: Receiving objects:  36% (45/125)   \n",
      "[129.114.109.108] out: Receiving objects:  37% (47/125)   \n",
      "[129.114.109.108] out: Receiving objects:  38% (48/125)   \n",
      "[129.114.109.108] out: Receiving objects:  39% (49/125)   \n",
      "[129.114.109.108] out: Receiving objects:  40% (50/125)   \n",
      "[129.114.109.108] out: Receiving objects:  41% (52/125)   \n",
      "[129.114.109.108] out: Receiving objects:  42% (53/125)   \n",
      "[129.114.109.108] out: Receiving objects:  43% (54/125)   \n",
      "[129.114.109.108] out: Receiving objects:  44% (55/125)   \n",
      "[129.114.109.108] out: Receiving objects:  45% (57/125)   \n",
      "[129.114.109.108] out: Receiving objects:  46% (58/125)   \n",
      "[129.114.109.108] out: Receiving objects:  47% (59/125)   \n",
      "[129.114.109.108] out: Receiving objects:  48% (60/125)   \n",
      "[129.114.109.108] out: Receiving objects:  49% (62/125)   \n",
      "[129.114.109.108] out: Receiving objects:  50% (63/125)   \n",
      "[129.114.109.108] out: Receiving objects:  51% (64/125)   \n",
      "[129.114.109.108] out: Receiving objects:  52% (65/125)   \n",
      "[129.114.109.108] out: Receiving objects:  53% (67/125)   \n",
      "[129.114.109.108] out: Receiving objects:  54% (68/125)   \n",
      "[129.114.109.108] out: Receiving objects:  55% (69/125)   \n",
      "[129.114.109.108] out: Receiving objects:  56% (70/125)   \n",
      "[129.114.109.108] out: Receiving objects:  57% (72/125)   \n",
      "[129.114.109.108] out: Receiving objects:  58% (73/125)   \n",
      "[129.114.109.108] out: Receiving objects:  59% (74/125)   \n",
      "[129.114.109.108] out: Receiving objects:  60% (75/125)   \n",
      "[129.114.109.108] out: Receiving objects:  61% (77/125)   \n",
      "[129.114.109.108] out: Receiving objects:  62% (78/125)   \n",
      "[129.114.109.108] out: Receiving objects:  63% (79/125)   \n",
      "[129.114.109.108] out: Receiving objects:  64% (80/125)   \n",
      "[129.114.109.108] out: Receiving objects:  65% (82/125)   \n",
      "[129.114.109.108] out: Receiving objects:  66% (83/125)   \n",
      "[129.114.109.108] out: Receiving objects:  67% (84/125)   \n",
      "[129.114.109.108] out: Receiving objects:  68% (85/125)   \n",
      "[129.114.109.108] out: Receiving objects:  69% (87/125)   \n",
      "[129.114.109.108] out: Receiving objects:  70% (88/125)   \n",
      "[129.114.109.108] out: Receiving objects:  71% (89/125)   \n",
      "[129.114.109.108] out: Receiving objects:  72% (90/125)   \n",
      "[129.114.109.108] out: Receiving objects:  73% (92/125)   \n",
      "[129.114.109.108] out: Receiving objects:  74% (93/125)   \n",
      "[129.114.109.108] out: Receiving objects:  75% (94/125)   \n",
      "[129.114.109.108] out: Receiving objects:  76% (95/125)   \n",
      "[129.114.109.108] out: Receiving objects:  77% (97/125)   \n",
      "[129.114.109.108] out: Receiving objects:  78% (98/125)   \n",
      "[129.114.109.108] out: Receiving objects:  79% (99/125)   \n",
      "[129.114.109.108] out: Receiving objects:  80% (100/125)   \n",
      "[129.114.109.108] out: Receiving objects:  81% (102/125)   \n",
      "[129.114.109.108] out: Receiving objects:  82% (103/125)   \n",
      "[129.114.109.108] out: Receiving objects:  83% (104/125)   \n",
      "[129.114.109.108] out: Receiving objects:  84% (105/125)   \n",
      "[129.114.109.108] out: Receiving objects:  85% (107/125)   \n",
      "[129.114.109.108] out: Receiving objects:  86% (108/125)   \n",
      "[129.114.109.108] out: Receiving objects:  87% (109/125)   \n",
      "[129.114.109.108] out: Receiving objects:  88% (110/125)   \n",
      "[129.114.109.108] out: Receiving objects:  89% (112/125)   \n",
      "[129.114.109.108] out: Receiving objects:  90% (113/125)   \n",
      "[129.114.109.108] out: Receiving objects:  91% (114/125)   \n",
      "[129.114.109.108] out: Receiving objects:  92% (115/125)   \n",
      "[129.114.109.108] out: Receiving objects:  93% (117/125)   \n",
      "[129.114.109.108] out: Receiving objects:  94% (118/125)   \n",
      "[129.114.109.108] out: Receiving objects:  95% (119/125)   \n",
      "[129.114.109.108] out: Receiving objects:  96% (120/125)   \n",
      "[129.114.109.108] out: Receiving objects:  97% (122/125)   \n",
      "[129.114.109.108] out: Receiving objects:  98% (123/125)   \n",
      "[129.114.109.108] out: Receiving objects:  99% (124/125)   \n",
      "[129.114.109.108] out: Receiving objects: 100% (125/125)   \n",
      "[129.114.109.108] out: Receiving objects: 100% (125/125), 22.96 KiB | 0 bytes/s, done.\n",
      "[129.114.109.108] out: Resolving deltas:   0% (0/79)   \n",
      "[129.114.109.108] out: Resolving deltas:  17% (14/79)   \n",
      "[129.114.109.108] out: Resolving deltas:  18% (15/79)   \n",
      "[129.114.109.108] out: Resolving deltas:  26% (21/79)   \n",
      "[129.114.109.108] out: Resolving deltas:  51% (41/79)   \n",
      "[129.114.109.108] out: Resolving deltas:  55% (44/79)   \n",
      "[129.114.109.108] out: Resolving deltas:  75% (60/79)   \n",
      "[129.114.109.108] out: Resolving deltas:  83% (66/79)   \n",
      "[129.114.109.108] out: Resolving deltas:  84% (67/79)   \n",
      "[129.114.109.108] out: Resolving deltas:  89% (71/79)   \n",
      "[129.114.109.108] out: Resolving deltas:  91% (72/79)   \n",
      "[129.114.109.108] out: Resolving deltas:  97% (77/79)   \n",
      "[129.114.109.108] out: Resolving deltas: 100% (79/79)   \n",
      "[129.114.109.108] out: Resolving deltas: 100% (79/79), done.\n",
      "[129.114.109.108] out: \n",
      "\n",
      "[129.114.109.108] run: cd intercoolr && make all\n",
      "[129.114.109.108] out: gcc -O2 -Wall -g -fopenmp   -c -o intercoolr.o intercoolr.c\n",
      "[129.114.109.108] out: gcc -O2 -Wall -g -fopenmp   -c -o raplreader.o raplreader.c\n",
      "[129.114.109.108] out: rm -f libintercoolr.a\n",
      "[129.114.109.108] out: ar cq libintercoolr.a intercoolr.o raplreader.o\n",
      "[129.114.109.108] out: gcc -o measure_pstate_latency -O2 -Wall -g -fopenmp measure_pstate_latency.c -L. -lintercoolr\n",
      "[129.114.109.108] out: gcc -o set_pstate -O2 -Wall -g -fopenmp set_pstate.c -L. -lintercoolr -lgomp\n",
      "[129.114.109.108] out: gcc -o get_pstate -O2 -Wall -g -fopenmp get_pstate.c -L. -lintercoolr -lgomp\n",
      "[129.114.109.108] out: gcc -o monitor_pstate -O2 -Wall -g -fopenmp monitor_pstate.c -L. -lintercoolr -lgomp\n",
      "[129.114.109.108] out: gcc -o raplreader_test -O2 -Wall -g -fopenmp -D__TEST_MAIN__ raplreader.c \n",
      "[129.114.109.108] out: gcc -o etrace2 -O2 -Wall -g -fopenmp etrace2.c raplreader.c  -lm\n",
      "[129.114.109.108] out: \n",
      "\n"
     ]
    },
    {
     "data": {
      "text/plain": [
       "'gcc -O2 -Wall -g -fopenmp   -c -o intercoolr.o intercoolr.c\\r\\ngcc -O2 -Wall -g -fopenmp   -c -o raplreader.o raplreader.c\\r\\nrm -f libintercoolr.a\\r\\nar cq libintercoolr.a intercoolr.o raplreader.o\\r\\ngcc -o measure_pstate_latency -O2 -Wall -g -fopenmp measure_pstate_latency.c -L. -lintercoolr\\r\\ngcc -o set_pstate -O2 -Wall -g -fopenmp set_pstate.c -L. -lintercoolr -lgomp\\r\\ngcc -o get_pstate -O2 -Wall -g -fopenmp get_pstate.c -L. -lintercoolr -lgomp\\r\\ngcc -o monitor_pstate -O2 -Wall -g -fopenmp monitor_pstate.c -L. -lintercoolr -lgomp\\r\\ngcc -o raplreader_test -O2 -Wall -g -fopenmp -D__TEST_MAIN__ raplreader.c \\r\\ngcc -o etrace2 -O2 -Wall -g -fopenmp etrace2.c raplreader.c  -lm'"
      ]
     },
     "execution_count": 24,
     "metadata": {},
     "output_type": "execute_result"
    }
   ],
   "source": [
    "fapi.run('git clone https://github.com/coolr-hpc/intercoolr.git')\n",
    "fapi.run('cd intercoolr && make all')"
   ]
  },
  {
   "cell_type": "markdown",
   "metadata": {},
   "source": [
    "### Testing `etrace2`\n",
    "\n",
    "To test if we have properly compiled `etrace2`, we will execute it and see its command help screen."
   ]
  },
  {
   "cell_type": "code",
   "execution_count": 25,
   "metadata": {
    "collapsed": false
   },
   "outputs": [
    {
     "name": "stdout",
     "output_type": "stream",
     "text": [
      "Usage: etrace2 [options] [command]\r\n",
      "\r\n",
      "[Options]\r\n",
      "\t-i sec : interval\r\n",
      "\t-t sec : timeout\r\n",
      "\t-o filename : output filename\r\n",
      "\t-r : relative time, instead of epoch\r\n",
      "\r\n",
      "[usage examples]\r\n",
      "\r\n",
      "# spawn your program and print energy consumption \r\n",
      "$ ./etrace2 your_program\r\n",
      "\r\n",
      "# also print power consumption every 0.5 sec\r\n",
      "$ ./etrace2 -i 0.5  your_program\r\n",
      "\r\n",
      "# just print power consumption every 1sec for 10sec\r\n",
      "$ ./etrace2 -i 1.0 -t 10\n"
     ]
    }
   ],
   "source": [
    "print(fapi.run('./intercoolr/etrace2 -h', quiet=True))"
   ]
  },
  {
   "cell_type": "markdown",
   "metadata": {},
   "source": [
    "## Stress\n",
    "\n",
    "`stress` is a workload simulator that we will use to generate a load that can be measured with `etrace2`. It is currently unavailable as a `yum` package for CentOS7, so we must download and compile it. \n",
    "\n",
    "`stress` is available at:\n",
    "\n",
    "[http://people.seas.harvard.edu/~apw/stress/](http://people.seas.harvard.edu/~apw/stress/)"
   ]
  },
  {
   "cell_type": "code",
   "execution_count": 5,
   "metadata": {
    "collapsed": false
   },
   "outputs": [
    {
     "name": "stdout",
     "output_type": "stream",
     "text": [
      "[129.114.109.108] run: curl http://people.seas.harvard.edu/~apw/stress/stress-1.0.4.tar.gz | tar xz\n",
      "[129.114.109.108] out:   % Total    % Received % Xferd  Average Speed   Time    Time     Time  Current\n",
      "[129.114.109.108] out:                                  Dload  Upload   Total   Spent    Left  Speed\n",
      "[129.114.109.108] out: \n",
      "[129.114.109.108] out:   0     0    0     0    0     0      0      0 --:--:-- --:--:-- --:--:--     0\n",
      "[129.114.109.108] out: 100  187k  100  187k    0     0   372k      0 --:--:-- --:--:-- --:--:--  373k\n",
      "[129.114.109.108] out: \n",
      "\n",
      "[129.114.109.108] run: cd stress-1.0.4 && ./configure && make && sudo make install\n",
      "[129.114.109.108] out: checking for a BSD-compatible install... /usr/bin/install -c\n",
      "[129.114.109.108] out: checking whether build environment is sane... yes\n",
      "[129.114.109.108] out: checking for a thread-safe mkdir -p... /usr/bin/mkdir -p\n",
      "[129.114.109.108] out: checking for gawk... gawk\n",
      "[129.114.109.108] out: checking whether make sets $(MAKE)... yes\n",
      "[129.114.109.108] out: checking for gcc... gcc\n",
      "[129.114.109.108] out: checking for C compiler default output file name... a.out\n",
      "[129.114.109.108] out: checking whether the C compiler works... yes\n",
      "[129.114.109.108] out: checking whether we are cross compiling... no\n",
      "[129.114.109.108] out: checking for suffix of executables... \n",
      "[129.114.109.108] out: checking for suffix of object files... o\n",
      "[129.114.109.108] out: checking whether we are using the GNU C compiler... yes\n",
      "[129.114.109.108] out: checking whether gcc accepts -g... yes\n",
      "[129.114.109.108] out: checking for gcc option to accept ISO C89... none needed\n",
      "[129.114.109.108] out: checking for style of include used by make... GNU\n",
      "[129.114.109.108] out: checking dependency style of gcc... gcc3\n",
      "[129.114.109.108] out: checking how to run the C preprocessor... gcc -E\n",
      "[129.114.109.108] out: checking for grep that handles long lines and -e... /usr/bin/grep\n",
      "[129.114.109.108] out: checking for egrep... /usr/bin/grep -E\n",
      "[129.114.109.108] out: checking for ANSI C header files... yes\n",
      "[129.114.109.108] out: checking for sys/types.h... yes\n",
      "[129.114.109.108] out: checking for sys/stat.h... yes\n",
      "[129.114.109.108] out: checking for stdlib.h... yes\n",
      "[129.114.109.108] out: checking for string.h... yes\n",
      "[129.114.109.108] out: checking for memory.h... yes\n",
      "[129.114.109.108] out: checking for strings.h... yes\n",
      "[129.114.109.108] out: checking for inttypes.h... yes\n",
      "[129.114.109.108] out: checking for stdint.h... yes\n",
      "[129.114.109.108] out: checking for unistd.h... yes\n",
      "[129.114.109.108] out: checking for unistd.h... (cached) yes\n",
      "[129.114.109.108] out: checking for sqrt in -lm... yes\n",
      "[129.114.109.108] out: checking for basename in -lgen... no\n",
      "[129.114.109.108] out: configure: creating ./config.status\n",
      "[129.114.109.108] out: config.status: creating Makefile\n",
      "[129.114.109.108] out: config.status: creating src/Makefile\n",
      "[129.114.109.108] out: config.status: creating doc/Makefile\n",
      "[129.114.109.108] out: config.status: creating test/Makefile\n",
      "[129.114.109.108] out: config.status: executing depfiles commands\n",
      "[129.114.109.108] out: Making all in .\n",
      "[129.114.109.108] out: make[1]: Entering directory `/home/cc/stress-1.0.4'\n",
      "[129.114.109.108] out: make[1]: Nothing to be done for `all-am'.\n",
      "[129.114.109.108] out: make[1]: Leaving directory `/home/cc/stress-1.0.4'\n",
      "[129.114.109.108] out: Making all in src\n",
      "[129.114.109.108] out: make[1]: Entering directory `/home/cc/stress-1.0.4/src'\n",
      "[129.114.109.108] out: gcc -DPACKAGE_NAME=\\\"\\\" -DPACKAGE_TARNAME=\\\"\\\" -DPACKAGE_VERSION=\\\"\\\" -DPACKAGE_STRING=\\\"\\\" -DPACKAGE_BUGREPORT=\\\"\\\" -DPACKAGE=\\\"stress\\\" -DVERSION=\\\"1.0.4\\\" -DSTDC_HEADERS=1 -DHAVE_SYS_TYPES_H=1 -DHAVE_SYS_STAT_H=1 -DHAVE_STDLIB_H=1 -DHAVE_STRING_H=1 -DHAVE_MEMORY_H=1 -DHAVE_STRINGS_H=1 -DHAVE_INTTYPES_H=1 -DHAVE_STDINT_H=1 -DHAVE_UNISTD_H=1 -DHAVE_UNISTD_H=1 -DHAVE_LIBM=1 -I.    -D_FILE_OFFSET_BITS=64 -D_LARGEFILE_SOURCE -g -O2 -MT stress.o -MD -MP -MF .deps/stress.Tpo -c -o stress.o stress.c\n",
      "[129.114.109.108] out: mv -f .deps/stress.Tpo .deps/stress.Po\n",
      "[129.114.109.108] out: gcc -D_FILE_OFFSET_BITS=64 -D_LARGEFILE_SOURCE -g -O2   -o stress stress.o  -lm \n",
      "[129.114.109.108] out: make[1]: Leaving directory `/home/cc/stress-1.0.4/src'\n",
      "[129.114.109.108] out: Making all in doc\n",
      "[129.114.109.108] out: make[1]: Entering directory `/home/cc/stress-1.0.4/doc'\n",
      "[129.114.109.108] out: make[1]: Nothing to be done for `all'.\n",
      "[129.114.109.108] out: make[1]: Leaving directory `/home/cc/stress-1.0.4/doc'\n",
      "[129.114.109.108] out: Making all in test\n",
      "[129.114.109.108] out: make[1]: Entering directory `/home/cc/stress-1.0.4/test'\n",
      "[129.114.109.108] out: make[1]: Nothing to be done for `all'.\n",
      "[129.114.109.108] out: make[1]: Leaving directory `/home/cc/stress-1.0.4/test'\n",
      "[129.114.109.108] out: Making install in .\n",
      "[129.114.109.108] out: make[1]: Entering directory `/home/cc/stress-1.0.4'\n",
      "[129.114.109.108] out: make[2]: Entering directory `/home/cc/stress-1.0.4'\n",
      "[129.114.109.108] out: make[2]: Nothing to be done for `install-exec-am'.\n",
      "[129.114.109.108] out: make[2]: Nothing to be done for `install-data-am'.\n",
      "[129.114.109.108] out: make[2]: Leaving directory `/home/cc/stress-1.0.4'\n",
      "[129.114.109.108] out: make[1]: Leaving directory `/home/cc/stress-1.0.4'\n",
      "[129.114.109.108] out: Making install in src\n",
      "[129.114.109.108] out: make[1]: Entering directory `/home/cc/stress-1.0.4/src'\n",
      "[129.114.109.108] out: make[2]: Entering directory `/home/cc/stress-1.0.4/src'\n",
      "[129.114.109.108] out: test -z \"/usr/local/bin\" || /usr/bin/mkdir -p \"/usr/local/bin\"\n",
      "[129.114.109.108] out:   /usr/bin/install -c 'stress' '/usr/local/bin/stress'\n",
      "[129.114.109.108] out: make[2]: Nothing to be done for `install-data-am'.\n",
      "[129.114.109.108] out: make[2]: Leaving directory `/home/cc/stress-1.0.4/src'\n",
      "[129.114.109.108] out: make[1]: Leaving directory `/home/cc/stress-1.0.4/src'\n",
      "[129.114.109.108] out: Making install in doc\n",
      "[129.114.109.108] out: make[1]: Entering directory `/home/cc/stress-1.0.4/doc'\n",
      "[129.114.109.108] out: make[2]: Entering directory `/home/cc/stress-1.0.4/doc'\n",
      "[129.114.109.108] out: make[2]: Nothing to be done for `install-exec-am'.\n",
      "[129.114.109.108] out: test -z \"/usr/local/share/info\" || /usr/bin/mkdir -p \"/usr/local/share/info\"\n",
      "[129.114.109.108] out:  /usr/bin/install -c -m 644 './stress.info' '/usr/local/share/info/stress.info'\n",
      "[129.114.109.108] out:  install-info --info-dir='/usr/local/share/info' '/usr/local/share/info/stress.info'\n",
      "[129.114.109.108] out: test -z \"/usr/local/share/man/man1\" || /usr/bin/mkdir -p \"/usr/local/share/man/man1\"\n",
      "[129.114.109.108] out:  /usr/bin/install -c -m 644 'stress.1' '/usr/local/share/man/man1/stress.1'\n",
      "[129.114.109.108] out: make[2]: Leaving directory `/home/cc/stress-1.0.4/doc'\n",
      "[129.114.109.108] out: make[1]: Leaving directory `/home/cc/stress-1.0.4/doc'\n",
      "[129.114.109.108] out: Making install in test\n",
      "[129.114.109.108] out: make[1]: Entering directory `/home/cc/stress-1.0.4/test'\n",
      "[129.114.109.108] out: make[2]: Entering directory `/home/cc/stress-1.0.4/test'\n",
      "[129.114.109.108] out: make[2]: Nothing to be done for `install-exec-am'.\n",
      "[129.114.109.108] out: make[2]: Nothing to be done for `install-data-am'.\n",
      "[129.114.109.108] out: make[2]: Leaving directory `/home/cc/stress-1.0.4/test'\n",
      "[129.114.109.108] out: make[1]: Leaving directory `/home/cc/stress-1.0.4/test'\n",
      "[129.114.109.108] out: \n",
      "\n"
     ]
    },
    {
     "data": {
      "text/plain": [
       "'checking for a BSD-compatible install... /usr/bin/install -c\\r\\nchecking whether build environment is sane... yes\\r\\nchecking for a thread-safe mkdir -p... /usr/bin/mkdir -p\\r\\nchecking for gawk... gawk\\r\\nchecking whether make sets $(MAKE)... yes\\r\\nchecking for gcc... gcc\\r\\nchecking for C compiler default output file name... a.out\\r\\nchecking whether the C compiler works... yes\\r\\nchecking whether we are cross compiling... no\\r\\nchecking for suffix of executables... \\r\\nchecking for suffix of object files... o\\r\\nchecking whether we are using the GNU C compiler... yes\\r\\nchecking whether gcc accepts -g... yes\\r\\nchecking for gcc option to accept ISO C89... none needed\\r\\nchecking for style of include used by make... GNU\\r\\nchecking dependency style of gcc... gcc3\\r\\nchecking how to run the C preprocessor... gcc -E\\r\\nchecking for grep that handles long lines and -e... /usr/bin/grep\\r\\nchecking for egrep... /usr/bin/grep -E\\r\\nchecking for ANSI C header files... yes\\r\\nchecking for sys/types.h... yes\\r\\nchecking for sys/stat.h... yes\\r\\nchecking for stdlib.h... yes\\r\\nchecking for string.h... yes\\r\\nchecking for memory.h... yes\\r\\nchecking for strings.h... yes\\r\\nchecking for inttypes.h... yes\\r\\nchecking for stdint.h... yes\\r\\nchecking for unistd.h... yes\\r\\nchecking for unistd.h... (cached) yes\\r\\nchecking for sqrt in -lm... yes\\r\\nchecking for basename in -lgen... no\\r\\nconfigure: creating ./config.status\\r\\nconfig.status: creating Makefile\\r\\nconfig.status: creating src/Makefile\\r\\nconfig.status: creating doc/Makefile\\r\\nconfig.status: creating test/Makefile\\r\\nconfig.status: executing depfiles commands\\r\\nMaking all in .\\r\\nmake[1]: Entering directory `/home/cc/stress-1.0.4\\'\\r\\nmake[1]: Nothing to be done for `all-am\\'.\\r\\nmake[1]: Leaving directory `/home/cc/stress-1.0.4\\'\\r\\nMaking all in src\\r\\nmake[1]: Entering directory `/home/cc/stress-1.0.4/src\\'\\r\\ngcc -DPACKAGE_NAME=\\\\\"\\\\\" -DPACKAGE_TARNAME=\\\\\"\\\\\" -DPACKAGE_VERSION=\\\\\"\\\\\" -DPACKAGE_STRING=\\\\\"\\\\\" -DPACKAGE_BUGREPORT=\\\\\"\\\\\" -DPACKAGE=\\\\\"stress\\\\\" -DVERSION=\\\\\"1.0.4\\\\\" -DSTDC_HEADERS=1 -DHAVE_SYS_TYPES_H=1 -DHAVE_SYS_STAT_H=1 -DHAVE_STDLIB_H=1 -DHAVE_STRING_H=1 -DHAVE_MEMORY_H=1 -DHAVE_STRINGS_H=1 -DHAVE_INTTYPES_H=1 -DHAVE_STDINT_H=1 -DHAVE_UNISTD_H=1 -DHAVE_UNISTD_H=1 -DHAVE_LIBM=1 -I.    -D_FILE_OFFSET_BITS=64 -D_LARGEFILE_SOURCE -g -O2 -MT stress.o -MD -MP -MF .deps/stress.Tpo -c -o stress.o stress.c\\r\\nmv -f .deps/stress.Tpo .deps/stress.Po\\r\\ngcc -D_FILE_OFFSET_BITS=64 -D_LARGEFILE_SOURCE -g -O2   -o stress stress.o  -lm \\r\\nmake[1]: Leaving directory `/home/cc/stress-1.0.4/src\\'\\r\\nMaking all in doc\\r\\nmake[1]: Entering directory `/home/cc/stress-1.0.4/doc\\'\\r\\nmake[1]: Nothing to be done for `all\\'.\\r\\nmake[1]: Leaving directory `/home/cc/stress-1.0.4/doc\\'\\r\\nMaking all in test\\r\\nmake[1]: Entering directory `/home/cc/stress-1.0.4/test\\'\\r\\nmake[1]: Nothing to be done for `all\\'.\\r\\nmake[1]: Leaving directory `/home/cc/stress-1.0.4/test\\'\\r\\nMaking install in .\\r\\nmake[1]: Entering directory `/home/cc/stress-1.0.4\\'\\r\\nmake[2]: Entering directory `/home/cc/stress-1.0.4\\'\\r\\nmake[2]: Nothing to be done for `install-exec-am\\'.\\r\\nmake[2]: Nothing to be done for `install-data-am\\'.\\r\\nmake[2]: Leaving directory `/home/cc/stress-1.0.4\\'\\r\\nmake[1]: Leaving directory `/home/cc/stress-1.0.4\\'\\r\\nMaking install in src\\r\\nmake[1]: Entering directory `/home/cc/stress-1.0.4/src\\'\\r\\nmake[2]: Entering directory `/home/cc/stress-1.0.4/src\\'\\r\\ntest -z \"/usr/local/bin\" || /usr/bin/mkdir -p \"/usr/local/bin\"\\r\\n  /usr/bin/install -c \\'stress\\' \\'/usr/local/bin/stress\\'\\r\\nmake[2]: Nothing to be done for `install-data-am\\'.\\r\\nmake[2]: Leaving directory `/home/cc/stress-1.0.4/src\\'\\r\\nmake[1]: Leaving directory `/home/cc/stress-1.0.4/src\\'\\r\\nMaking install in doc\\r\\nmake[1]: Entering directory `/home/cc/stress-1.0.4/doc\\'\\r\\nmake[2]: Entering directory `/home/cc/stress-1.0.4/doc\\'\\r\\nmake[2]: Nothing to be done for `install-exec-am\\'.\\r\\ntest -z \"/usr/local/share/info\" || /usr/bin/mkdir -p \"/usr/local/share/info\"\\r\\n /usr/bin/install -c -m 644 \\'./stress.info\\' \\'/usr/local/share/info/stress.info\\'\\r\\n install-info --info-dir=\\'/usr/local/share/info\\' \\'/usr/local/share/info/stress.info\\'\\r\\ntest -z \"/usr/local/share/man/man1\" || /usr/bin/mkdir -p \"/usr/local/share/man/man1\"\\r\\n /usr/bin/install -c -m 644 \\'stress.1\\' \\'/usr/local/share/man/man1/stress.1\\'\\r\\nmake[2]: Leaving directory `/home/cc/stress-1.0.4/doc\\'\\r\\nmake[1]: Leaving directory `/home/cc/stress-1.0.4/doc\\'\\r\\nMaking install in test\\r\\nmake[1]: Entering directory `/home/cc/stress-1.0.4/test\\'\\r\\nmake[2]: Entering directory `/home/cc/stress-1.0.4/test\\'\\r\\nmake[2]: Nothing to be done for `install-exec-am\\'.\\r\\nmake[2]: Nothing to be done for `install-data-am\\'.\\r\\nmake[2]: Leaving directory `/home/cc/stress-1.0.4/test\\'\\r\\nmake[1]: Leaving directory `/home/cc/stress-1.0.4/test\\''"
      ]
     },
     "execution_count": 5,
     "metadata": {},
     "output_type": "execute_result"
    }
   ],
   "source": [
    "fapi.run('curl http://people.seas.harvard.edu/~apw/stress/stress-1.0.4.tar.gz | tar xz')\n",
    "fapi.run('cd stress-1.0.4 && ./configure && make && sudo make install')"
   ]
  },
  {
   "cell_type": "markdown",
   "metadata": {},
   "source": [
    "### Testing `stress`\n",
    "\n",
    "Once again, we will test our installation by running `stress` and viewing its help screen."
   ]
  },
  {
   "cell_type": "code",
   "execution_count": 6,
   "metadata": {
    "collapsed": false
   },
   "outputs": [
    {
     "name": "stdout",
     "output_type": "stream",
     "text": [
      "`stress' imposes certain types of compute stress on your system\r\n",
      "\r\n",
      "Usage: stress [OPTION [ARG]] ...\r\n",
      " -?, --help         show this help statement\r\n",
      "     --version      show version statement\r\n",
      " -v, --verbose      be verbose\r\n",
      " -q, --quiet        be quiet\r\n",
      " -n, --dry-run      show what would have been done\r\n",
      " -t, --timeout N    timeout after N seconds\r\n",
      "     --backoff N    wait factor of N microseconds before work starts\r\n",
      " -c, --cpu N        spawn N workers spinning on sqrt()\r\n",
      " -i, --io N         spawn N workers spinning on sync()\r\n",
      " -m, --vm N         spawn N workers spinning on malloc()/free()\r\n",
      "     --vm-bytes B   malloc B bytes per vm worker (default is 256MB)\r\n",
      "     --vm-stride B  touch a byte every B bytes (default is 4096)\r\n",
      "     --vm-hang N    sleep N secs before free (default none, 0 is inf)\r\n",
      "     --vm-keep      redirty memory instead of freeing and reallocating\r\n",
      " -d, --hdd N        spawn N workers spinning on write()/unlink()\r\n",
      "     --hdd-bytes B  write B bytes per hdd worker (default is 1GB)\r\n",
      "\r\n",
      "Example: stress --cpu 8 --io 4 --vm 2 --vm-bytes 128M --timeout 10s\r\n",
      "\r\n",
      "Note: Numbers may be suffixed with s,m,h,d,y (time) or B,K,M,G (size).\n"
     ]
    }
   ],
   "source": [
    "print(fapi.run('stress --help', quiet=True))"
   ]
  },
  {
   "cell_type": "markdown",
   "metadata": {},
   "source": [
    "### An `etrace` function\n",
    "\n",
    "The `etrace` function simply generates a shell command string for running `etrace`."
   ]
  },
  {
   "cell_type": "code",
   "execution_count": 9,
   "metadata": {
    "collapsed": true
   },
   "outputs": [],
   "source": [
    "def etrace(cmd, extra=''):\n",
    "    return './intercoolr/etrace2 {} {}'.format(extra, cmd)"
   ]
  },
  {
   "cell_type": "code",
   "execution_count": 10,
   "metadata": {
    "collapsed": false
   },
   "outputs": [
    {
     "name": "stdout",
     "output_type": "stream",
     "text": [
      "etrace2  sleep 5\n",
      "# ETRACE2_VERSION=0.1\n",
      "# ELAPSED=4.990290\n",
      "# ENERGY=410.191192\n",
      "# ENERGY_SOCKET0=171.562549\n",
      "# ENERGY_DRAM0=29.803543\n",
      "# ENERGY_SOCKET1=178.981597\n",
      "# ENERGY_DRAM1=30.704269\n"
     ]
    }
   ],
   "source": [
    "cmd = etrace('sleep 5')\n",
    "print(cmd)\n",
    "stdout = fapi.run(cmd, quiet=True)\n",
    "print(stdout)"
   ]
  },
  {
   "cell_type": "code",
   "execution_count": 11,
   "metadata": {
    "collapsed": false
   },
   "outputs": [
    {
     "name": "stdout",
     "output_type": "stream",
     "text": [
      "# ETRACE2_VERSION=0.1\r\n",
      "# ELAPSED=9.990532\r\n",
      "# ENERGY=795.710043\r\n",
      "# ENERGY_SOCKET0=325.826314\r\n",
      "# ENERGY_DRAM0=59.527740\r\n",
      "# ENERGY_SOCKET1=349.855061\r\n",
      "# ENERGY_DRAM1=61.347798\n"
     ]
    }
   ],
   "source": [
    "stdout = fapi.run(etrace('sleep 10'), quiet=True)\n",
    "print(stdout)"
   ]
  },
  {
   "cell_type": "markdown",
   "metadata": {},
   "source": [
    "### A `stress` function\n",
    "\n",
    "The `stress` function generates `stress` shell command strings for running `stress` with parameters."
   ]
  },
  {
   "cell_type": "code",
   "execution_count": 13,
   "metadata": {
    "collapsed": false
   },
   "outputs": [],
   "source": [
    "def stress(t, cpu=None, memory=None, extra=''):\n",
    "    cmd = 'stress --timeout {}s'.format(t)\n",
    "    if cpu:\n",
    "        cmd += ' --cpu {}'.format(cpu)\n",
    "    if memory:\n",
    "        cmd += ' --vm {}'.format(memory)\n",
    "    if extra:\n",
    "        cmd += ' {}'.format(extra)\n",
    "    return cmd"
   ]
  },
  {
   "cell_type": "markdown",
   "metadata": {},
   "source": [
    "### `skim_trace`\n",
    "\n",
    "This function filters `etrace` output and packages it as a Python dictionary."
   ]
  },
  {
   "cell_type": "code",
   "execution_count": 26,
   "metadata": {
    "collapsed": true
   },
   "outputs": [],
   "source": [
    "def skim_trace(output):\n",
    "    trace = {}\n",
    "    other = []\n",
    "    for line in output.splitlines():\n",
    "        if line.startswith('# E'):\n",
    "            key, value = line.split('=')\n",
    "            key = key.lower().strip(' #')\n",
    "            value = float(value)\n",
    "            trace[key] = value\n",
    "        else:\n",
    "            other.append(line)\n",
    "            \n",
    "    return trace, '\\n'.join(other)"
   ]
  },
  {
   "cell_type": "code",
   "execution_count": 27,
   "metadata": {
    "collapsed": false
   },
   "outputs": [
    {
     "name": "stdout",
     "output_type": "stream",
     "text": [
      "etrace2  stress --timeout 5s --cpu 48\n",
      "stress: info: [13402] dispatching hogs: 48 cpu, 0 io, 0 vm, 0 hdd\n",
      "stress: info: [13402] successful run completed in 5s\n"
     ]
    },
    {
     "data": {
      "text/plain": [
       "{'elapsed': 4.992395,\n",
       " 'energy': 1006.681409,\n",
       " 'energy_dram0': 29.83448,\n",
       " 'energy_dram1': 30.823334,\n",
       " 'energy_socket0': 458.666917,\n",
       " 'energy_socket1': 488.223787,\n",
       " 'etrace2_version': 0.1}"
      ]
     },
     "execution_count": 27,
     "metadata": {},
     "output_type": "execute_result"
    }
   ],
   "source": [
    "cmd = etrace(stress(5, 48))\n",
    "print(cmd)\n",
    "stdout = fapi.run(cmd, quiet=True)\n",
    "trace, remainder = skim_trace(stdout)\n",
    "print(remainder)\n",
    "trace"
   ]
  },
  {
   "cell_type": "code",
   "execution_count": 16,
   "metadata": {
    "collapsed": false
   },
   "outputs": [
    {
     "name": "stdout",
     "output_type": "stream",
     "text": [
      "etrace2  stress --timeout 5s --vm 4\n"
     ]
    },
    {
     "data": {
      "text/plain": [
       "{'elapsed': 4.991439,\n",
       " 'energy': 555.633497,\n",
       " 'energy_dram0': 38.155767,\n",
       " 'energy_dram1': 56.365736,\n",
       " 'energy_socket0': 199.25834,\n",
       " 'energy_socket1': 262.752562,\n",
       " 'etrace2_version': 0.1}"
      ]
     },
     "execution_count": 16,
     "metadata": {},
     "output_type": "execute_result"
    }
   ],
   "source": [
    "cmd = etrace(stress(5, memory=4))\n",
    "print(cmd)\n",
    "stdout = fapi.run(cmd, quiet=True)\n",
    "skim_trace(stdout)[0]"
   ]
  },
  {
   "cell_type": "markdown",
   "metadata": {},
   "source": [
    "### Generating and plotting data\n",
    "\n",
    "We will now generate a series of measurements."
   ]
  },
  {
   "cell_type": "code",
   "execution_count": 17,
   "metadata": {
    "collapsed": true
   },
   "outputs": [],
   "source": [
    "runs = []\n",
    "t = 5\n",
    "for n_cpu in [0, 1, 2, 6, 12, 18, 24, 36, 48, 60]:\n",
    "    if n_cpu > 0:\n",
    "        cmd = stress(t, n_cpu)\n",
    "    else:\n",
    "        cmd = 'sleep {}'.format(t)\n",
    "    stdout = fapi.run(etrace(cmd), quiet=True)\n",
    "    trace, _ = skim_trace(stdout)\n",
    "    trace['n_cpu'] = n_cpu\n",
    "    runs.append(trace)\n",
    "    \n",
    "print runs"
   ]
  },
  {
   "cell_type": "markdown",
   "metadata": {},
   "source": [
    "Now we can plot the power use in Watts of each run."
   ]
  },
  {
   "cell_type": "code",
   "execution_count": 16,
   "metadata": {
    "collapsed": false
   },
   "outputs": [
    {
     "data": {
      "text/plain": [
       "<matplotlib.text.Text at 0x104b6f9b0>"
      ]
     },
     "execution_count": 16,
     "metadata": {},
     "output_type": "execute_result"
    },
    {
     "data": {
      "image/png": "[encoded data removed]",
      "text/plain": [
       "<matplotlib.figure.Figure at 0x104b43400>"
      ]
     },
     "metadata": {},
     "output_type": "display_data"
    }
   ],
   "source": [
    "def socket_power(run):\n",
    "    return (run['energy_socket0'] + run['energy_socket1']) / run['elapsed']\n",
    "\n",
    "f, ax = plt.subplots()\n",
    "workers, sockets_power = zip(*((r['n_cpu'], socket_power(r)) for r in runs))\n",
    "ax.plot(workers, sockets_power, 'o')\n",
    "ax.set_xlabel('CPU Hogs')\n",
    "ax.set_ylabel('CPU Power (W)')"
   ]
  },
  {
   "cell_type": "markdown",
   "metadata": {},
   "source": [
    "### `etrace` time series data\n",
    "\n",
    "By specifying the `-i 0.25` switch for `etrace2`, we can get time series data for the individual runs."
   ]
  },
  {
   "cell_type": "code",
   "execution_count": 31,
   "metadata": {
    "collapsed": true
   },
   "outputs": [],
   "source": [
    "runs = {}\n",
    "for n_cpu in [1, 6, 24, 100]:\n",
    "    runs[n_cpu] = fapi.run(etrace(stress(10, n_cpu), extra='-i 0.25'), quiet=True)"
   ]
  },
  {
   "cell_type": "code",
   "execution_count": 32,
   "metadata": {
    "collapsed": true
   },
   "outputs": [],
   "source": [
    "def extract_values(out):\n",
    "    points = []\n",
    "    for line in out.splitlines():\n",
    "        try:\n",
    "            values = [float(x) for x in line.split()]\n",
    "        except ValueError:\n",
    "            continue\n",
    "        if len(values) != 3:\n",
    "            continue\n",
    "        points.append(values)\n",
    "    return points"
   ]
  },
  {
   "cell_type": "code",
   "execution_count": 35,
   "metadata": {
    "collapsed": false
   },
   "outputs": [
    {
     "data": {
      "image/png": "[encoded data removed]",
      "text/plain": [
       "<matplotlib.figure.Figure at 0x10db147d0>"
      ]
     },
     "metadata": {},
     "output_type": "display_data"
    }
   ],
   "source": [
    "f, ax = plt.subplots()\n",
    "\n",
    "for n_cpu, run in runs.items():\n",
    "    time_points = extract_values(run)\n",
    "    t, p, e = zip(*time_points)\n",
    "    trel = [tx - t[0] for tx in t]\n",
    "    \n",
    "    ax.plot(trel, p, label='{} hogs'.format(n_cpu))\n",
    "    \n",
    "ax.set_xlabel('Time (s)')\n",
    "ax.set_ylabel('CPU + DRAM Power (W)')\n",
    "ax.legend()\n",
    "plt.show()"
   ]
  },
  {
   "cell_type": "markdown",
   "metadata": {},
   "source": [
    "### Disconecting `fabric`\n",
    "\n",
    "Finally, we can terminate our SSH session through `fabric`."
   ]
  },
  {
   "cell_type": "code",
   "execution_count": 20,
   "metadata": {
    "collapsed": false
   },
   "outputs": [
    {
     "name": "stdout",
     "output_type": "stream",
     "text": [
      "Disconnecting from 129.114.109.207... done.\n"
     ]
    }
   ],
   "source": [
    "fnet.disconnect_all()"
   ]
  }
 ],
 "metadata": {
  "kernelspec": {
   "display_name": "Python 2",
   "language": "python",
   "name": "python2"
  },
  "language_info": {
   "codemirror_mode": {
    "name": "ipython",
    "version": 2
   },
   "file_extension": ".py",
   "mimetype": "text/x-python",
   "name": "python",
   "nbconvert_exporter": "python",
   "pygments_lexer": "ipython2",
   "version": "2.7.13"
  }
 },
 "nbformat": 4,
 "nbformat_minor": 0
}
